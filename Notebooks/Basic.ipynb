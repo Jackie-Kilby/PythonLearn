{
 "cells": [
  {
   "cell_type": "markdown",
   "metadata": {},
   "source": [
    "# Hello, Python world!\n",
    "## Basic Python Knowledge"
   ]
  },
  {
   "cell_type": "markdown",
   "metadata": {},
   "source": [
    "### print Func."
   ]
  },
  {
   "cell_type": "code",
   "execution_count": 11,
   "metadata": {},
   "outputs": [
    {
     "name": "stdout",
     "output_type": "stream",
     "text": [
      "Hello World !\n",
      "Hello world!\n"
     ]
    }
   ],
   "source": [
    "# Question 0: Hello World !\n",
    "print('Hello World !')\n",
    "import __hello__"
   ]
  },
  {
   "cell_type": "code",
   "execution_count": 40,
   "metadata": {},
   "outputs": [
    {
     "name": "stdout",
     "output_type": "stream",
     "text": [
      "   --    --\n",
      "  /  \\  /  \\\n",
      " /    \\/    \\\n",
      "|            |\n",
      " \\          /\n",
      "  \\        /\n",
      "   \\      /\n",
      "    \\    /\n",
      "     \\  /\n",
      "      \\/\n"
     ]
    }
   ],
   "source": [
    "# Question 1: Draw a Heart.\n",
    "print('   --    --')      # May use 'xxx' to mean a string\n",
    "print(\"  /  \\  /  \\\\\")    # May use \"xxx\" to mean a string, Attention: \\\" is an escape character, means only \" in string\n",
    "print(\" /    \\\\\"\"/    \\\\\")       #May use \"a\"\"b\" to connect two string\n",
    "print(\"|    \",\"        |\", sep = '')   #May use sep = 'xxx' to specify separator\n",
    "print(\" \\          /\")\n",
    "print(\"  \\        /\",'   \\      /', sep = '\\n')\n",
    "print(\"    \\    /\",\"     \\  /\",\"      \\/\", sep = '\\n', end = '\\n')  #May use end = 'xxx' to specify the end of print"
   ]
  },
  {
   "cell_type": "code",
   "execution_count": null,
   "metadata": {},
   "outputs": [],
   "source": [
    "# Question 2: Output \"Loading...\" \n",
    "import time\n",
    "print('Loading ')\n",
    "while(1):\n",
    "    for i in range(7):\n",
    "        time.sleep(0.5)\n",
    "        if(i == 3):\n",
    "            print(\" \", end = '')\n",
    "        else:\n",
    "            print('.', end = '')\n",
    "    print('\\r', end = '', flush=True)\n",
    "    "
   ]
  },
  {
   "cell_type": "markdown",
   "metadata": {},
   "source": []
  },
  {
   "cell_type": "markdown",
   "metadata": {},
   "source": [
    "### import Module"
   ]
  },
  {
   "cell_type": "code",
   "execution_count": 14,
   "metadata": {},
   "outputs": [
    {
     "name": "stdout",
     "output_type": "stream",
     "text": [
      "3.8-32\n"
     ]
    }
   ],
   "source": [
    "# Q3: get Windows Version with module 'sys' member 'winver'\n",
    "from sys import winver as w\n",
    "print(w)"
   ]
  },
  {
   "cell_type": "code",
   "execution_count": 15,
   "metadata": {},
   "outputs": [
    {
     "name": "stdout",
     "output_type": "stream",
     "text": [
      "d:\\python\\python38-32\\lib\\site-packages\\ipykernel_launcher.py\n",
      "\\\n"
     ]
    }
   ],
   "source": [
    "# Q4: Get current Python program path with module 'sys', and get platform separator with module 'os'\n",
    "import sys as s, os\n",
    "print(s.argv[0])\n",
    "print(os.sep)"
   ]
  },
  {
   "cell_type": "code",
   "execution_count": 10,
   "metadata": {},
   "outputs": [
    {
     "name": "stdout",
     "output_type": "stream",
     "text": [
      "['E:\\\\PythonLearning\\\\Notebooks', 'd:\\\\python\\\\python38-32\\\\python38.zip', 'd:\\\\python\\\\python38-32\\\\DLLs', 'd:\\\\python\\\\python38-32\\\\lib', 'd:\\\\python\\\\python38-32', '', 'd:\\\\python\\\\python38-32\\\\lib\\\\site-packages', 'd:\\\\python\\\\python38-32\\\\lib\\\\site-packages\\\\win32', 'd:\\\\python\\\\python38-32\\\\lib\\\\site-packages\\\\win32\\\\lib', 'd:\\\\python\\\\python38-32\\\\lib\\\\site-packages\\\\Pythonwin', 'd:\\\\python\\\\python38-32\\\\lib\\\\site-packages\\\\IPython\\\\extensions', 'C:\\\\Users\\\\lonel\\\\.ipython']\n"
     ]
    }
   ],
   "source": [
    "# Q5: Show import module paths\n",
    "print(sys.path)"
   ]
  },
  {
   "cell_type": "code",
   "execution_count": 34,
   "metadata": {},
   "outputs": [],
   "source": [
    "# Q6: import antigravity to explore comic\n",
    "import antigravity"
   ]
  },
  {
   "cell_type": "code",
   "execution_count": 35,
   "metadata": {},
   "outputs": [
    {
     "name": "stdout",
     "output_type": "stream",
     "text": [
      "The Zen of Python, by Tim Peters\n",
      "\n",
      "Beautiful is better than ugly.\n",
      "Explicit is better than implicit.\n",
      "Simple is better than complex.\n",
      "Complex is better than complicated.\n",
      "Flat is better than nested.\n",
      "Sparse is better than dense.\n",
      "Readability counts.\n",
      "Special cases aren't special enough to break the rules.\n",
      "Although practicality beats purity.\n",
      "Errors should never pass silently.\n",
      "Unless explicitly silenced.\n",
      "In the face of ambiguity, refuse the temptation to guess.\n",
      "There should be one-- and preferably only one --obvious way to do it.\n",
      "Although that way may not be obvious at first unless you're Dutch.\n",
      "Now is better than never.\n",
      "Although never is often better than *right* now.\n",
      "If the implementation is hard to explain, it's a bad idea.\n",
      "If the implementation is easy to explain, it may be a good idea.\n",
      "Namespaces are one honking great idea -- let's do more of those!\n"
     ]
    }
   ],
   "source": [
    "# Q7: import this to see Zen of Python\n",
    "import this"
   ]
  },
  {
   "cell_type": "markdown",
   "metadata": {},
   "source": [
    "### Math Operation"
   ]
  },
  {
   "cell_type": "code",
   "execution_count": 20,
   "metadata": {},
   "outputs": [
    {
     "data": {
      "text/plain": [
       "9"
      ]
     },
     "execution_count": 20,
     "metadata": {},
     "output_type": "execute_result"
    }
   ],
   "source": [
    "# Basic Calculation: + - * / % **\n",
    "3 ** 2"
   ]
  },
  {
   "cell_type": "code",
   "execution_count": 21,
   "metadata": {},
   "outputs": [
    {
     "data": {
      "text/plain": [
       "2.0"
      ]
     },
     "execution_count": 21,
     "metadata": {},
     "output_type": "execute_result"
    }
   ],
   "source": [
    "4 ** (1/2)"
   ]
  },
  {
   "cell_type": "code",
   "execution_count": 27,
   "metadata": {},
   "outputs": [
    {
     "data": {
      "text/plain": [
       "3.141592653589793"
      ]
     },
     "execution_count": 27,
     "metadata": {},
     "output_type": "execute_result"
    }
   ],
   "source": [
    "# Import math to Math Calculation\n",
    "import math\n",
    "math.pi"
   ]
  },
  {
   "cell_type": "code",
   "execution_count": 25,
   "metadata": {},
   "outputs": [
    {
     "data": {
      "text/plain": [
       "1.0"
      ]
     },
     "execution_count": 25,
     "metadata": {},
     "output_type": "execute_result"
    }
   ],
   "source": [
    "# Math module: Traingle func.\n",
    "math.sin(math.pi/2)"
   ]
  },
  {
   "cell_type": "code",
   "execution_count": 26,
   "metadata": {},
   "outputs": [
    {
     "data": {
      "text/plain": [
       "9"
      ]
     },
     "execution_count": 26,
     "metadata": {},
     "output_type": "execute_result"
    }
   ],
   "source": [
    "# Math module: 向下取整\n",
    "math.floor(9.23)"
   ]
  },
  {
   "cell_type": "code",
   "execution_count": 36,
   "metadata": {},
   "outputs": [
    {
     "data": {
      "text/plain": [
       "2"
      ]
     },
     "execution_count": 36,
     "metadata": {},
     "output_type": "execute_result"
    }
   ],
   "source": [
    "# Math module: 向上取整\n",
    "math.ceil(1.23)"
   ]
  },
  {
   "cell_type": "markdown",
   "metadata": {},
   "source": [
    "### 变量赋值 "
   ]
  },
  {
   "cell_type": "code",
   "execution_count": 41,
   "metadata": {},
   "outputs": [
    {
     "name": "stdout",
     "output_type": "stream",
     "text": [
      "4\n"
     ]
    }
   ],
   "source": [
    "a = 4\n",
    "print(a)"
   ]
  },
  {
   "cell_type": "markdown",
   "metadata": {},
   "source": [
    "### 增强的格式化字符串函数 format"
   ]
  },
  {
   "cell_type": "code",
   "execution_count": 40,
   "metadata": {},
   "outputs": [
    {
     "name": "stdout",
     "output_type": "stream",
     "text": [
      "苹果的花费为10， 葡萄的花费为22.5， 总的花费为32.5\n"
     ]
    }
   ],
   "source": [
    "# Q8: 小姐姐买水果问题: 苹果5元/斤，葡萄15元/斤，小姐姐买了苹果2斤，葡萄1.5斤。分别多少钱？总共多少钱？\n",
    "# Apple price\n",
    "apple_price = 5\n",
    "apple_weight = 2\n",
    "apple_cost = apple_price * apple_weight\n",
    "\n",
    "# Grape price\n",
    "grape_price = 15\n",
    "grape_weitht = 1.5\n",
    "grape_cost = grape_price * grape_weitht\n",
    "\n",
    "total_cost = apple_cost + grape_cost\n",
    "\n",
    "print(\"苹果的花费为{}， 葡萄的花费为{}， 总的花费为{}\".format(apple_cost, grape_cost, total_cost))\n"
   ]
  },
  {
   "cell_type": "code",
   "execution_count": null,
   "metadata": {},
   "outputs": [],
   "source": []
  },
  {
   "cell_type": "code",
   "execution_count": null,
   "metadata": {},
   "outputs": [],
   "source": []
  },
  {
   "cell_type": "code",
   "execution_count": null,
   "metadata": {},
   "outputs": [],
   "source": []
  },
  {
   "cell_type": "code",
   "execution_count": null,
   "metadata": {},
   "outputs": [],
   "source": []
  },
  {
   "cell_type": "code",
   "execution_count": null,
   "metadata": {},
   "outputs": [],
   "source": []
  },
  {
   "cell_type": "code",
   "execution_count": null,
   "metadata": {},
   "outputs": [],
   "source": []
  }
 ],
 "metadata": {
  "kernelspec": {
   "display_name": "Python 3",
   "language": "python",
   "name": "python3"
  },
  "language_info": {
   "codemirror_mode": {
    "name": "ipython",
    "version": 3
   },
   "file_extension": ".py",
   "mimetype": "text/x-python",
   "name": "python",
   "nbconvert_exporter": "python",
   "pygments_lexer": "ipython3",
   "version": "3.8.3"
  }
 },
 "nbformat": 4,
 "nbformat_minor": 4
}

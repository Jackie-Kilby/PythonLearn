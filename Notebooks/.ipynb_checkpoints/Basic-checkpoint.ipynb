{
 "cells": [
  {
   "cell_type": "markdown",
   "metadata": {},
   "source": [
    "# Hello, Python world!  --  Basic Python Knowledge"
   ]
  },
  {
   "cell_type": "markdown",
   "metadata": {},
   "source": [
    "## print Func."
   ]
  },
  {
   "cell_type": "code",
   "execution_count": 11,
   "metadata": {},
   "outputs": [
    {
     "name": "stdout",
     "output_type": "stream",
     "text": [
      "Hello World !\n",
      "Hello world!\n"
     ]
    }
   ],
   "source": [
    "# Question 0: Hello World !\n",
    "print('Hello World !')\n",
    "import __hello__"
   ]
  },
  {
   "cell_type": "code",
   "execution_count": 40,
   "metadata": {},
   "outputs": [
    {
     "name": "stdout",
     "output_type": "stream",
     "text": [
      "   --    --\n",
      "  /  \\  /  \\\n",
      " /    \\/    \\\n",
      "|            |\n",
      " \\          /\n",
      "  \\        /\n",
      "   \\      /\n",
      "    \\    /\n",
      "     \\  /\n",
      "      \\/\n"
     ]
    }
   ],
   "source": [
    "# Question 1: Draw a Heart.\n",
    "print('   --    --')      # May use 'xxx' to mean a string\n",
    "print(\"  /  \\  /  \\\\\")    # May use \"xxx\" to mean a string, Attention: \\\" is an escape character, means only \" in string\n",
    "print(\" /    \\\\\"\"/    \\\\\")       #May use \"a\"\"b\" to connect two string\n",
    "print(\"|    \",\"        |\", sep = '')   #May use sep = 'xxx' to specify separator\n",
    "print(\" \\          /\")\n",
    "print(\"  \\        /\",'   \\      /', sep = '\\n')\n",
    "print(\"    \\    /\",\"     \\  /\",\"      \\/\", sep = '\\n', end = '\\n')  #May use end = 'xxx' to specify the end of print"
   ]
  },
  {
   "cell_type": "code",
   "execution_count": null,
   "metadata": {},
   "outputs": [],
   "source": [
    "# Question 2: Output \"Loading...\" \n",
    "import time\n",
    "print('Loading ')\n",
    "while(1):\n",
    "    for i in range(7):\n",
    "        time.sleep(0.5)\n",
    "        if(i == 3):\n",
    "            print(\" \", end = '')\n",
    "        else:\n",
    "            print('.', end = '')\n",
    "    print('\\r', end = '', flush=True)\n",
    "    "
   ]
  },
  {
   "cell_type": "markdown",
   "metadata": {},
   "source": []
  },
  {
   "cell_type": "markdown",
   "metadata": {},
   "source": [
    "## import Module"
   ]
  },
  {
   "cell_type": "code",
   "execution_count": 14,
   "metadata": {},
   "outputs": [
    {
     "name": "stdout",
     "output_type": "stream",
     "text": [
      "3.8-32\n"
     ]
    }
   ],
   "source": [
    "# Q3: get Windows Version with module 'sys' member 'winver'\n",
    "from sys import winver as w\n",
    "print(w)"
   ]
  },
  {
   "cell_type": "code",
   "execution_count": 15,
   "metadata": {},
   "outputs": [
    {
     "name": "stdout",
     "output_type": "stream",
     "text": [
      "d:\\python\\python38-32\\lib\\site-packages\\ipykernel_launcher.py\n",
      "\\\n"
     ]
    }
   ],
   "source": [
    "# Q4: Get current Python program path with module 'sys', and get platform separator with module 'os'\n",
    "import sys as s, os\n",
    "print(s.argv[0])\n",
    "print(os.sep)"
   ]
  },
  {
   "cell_type": "code",
   "execution_count": 10,
   "metadata": {},
   "outputs": [
    {
     "name": "stdout",
     "output_type": "stream",
     "text": [
      "['E:\\\\PythonLearning\\\\Notebooks', 'd:\\\\python\\\\python38-32\\\\python38.zip', 'd:\\\\python\\\\python38-32\\\\DLLs', 'd:\\\\python\\\\python38-32\\\\lib', 'd:\\\\python\\\\python38-32', '', 'd:\\\\python\\\\python38-32\\\\lib\\\\site-packages', 'd:\\\\python\\\\python38-32\\\\lib\\\\site-packages\\\\win32', 'd:\\\\python\\\\python38-32\\\\lib\\\\site-packages\\\\win32\\\\lib', 'd:\\\\python\\\\python38-32\\\\lib\\\\site-packages\\\\Pythonwin', 'd:\\\\python\\\\python38-32\\\\lib\\\\site-packages\\\\IPython\\\\extensions', 'C:\\\\Users\\\\lonel\\\\.ipython']\n"
     ]
    }
   ],
   "source": [
    "# Q5: Show import module paths\n",
    "print(sys.path)"
   ]
  },
  {
   "cell_type": "code",
   "execution_count": 34,
   "metadata": {},
   "outputs": [],
   "source": [
    "# Q6: import antigravity to explore comic\n",
    "import antigravity"
   ]
  },
  {
   "cell_type": "code",
   "execution_count": 35,
   "metadata": {},
   "outputs": [
    {
     "name": "stdout",
     "output_type": "stream",
     "text": [
      "The Zen of Python, by Tim Peters\n",
      "\n",
      "Beautiful is better than ugly.\n",
      "Explicit is better than implicit.\n",
      "Simple is better than complex.\n",
      "Complex is better than complicated.\n",
      "Flat is better than nested.\n",
      "Sparse is better than dense.\n",
      "Readability counts.\n",
      "Special cases aren't special enough to break the rules.\n",
      "Although practicality beats purity.\n",
      "Errors should never pass silently.\n",
      "Unless explicitly silenced.\n",
      "In the face of ambiguity, refuse the temptation to guess.\n",
      "There should be one-- and preferably only one --obvious way to do it.\n",
      "Although that way may not be obvious at first unless you're Dutch.\n",
      "Now is better than never.\n",
      "Although never is often better than *right* now.\n",
      "If the implementation is hard to explain, it's a bad idea.\n",
      "If the implementation is easy to explain, it may be a good idea.\n",
      "Namespaces are one honking great idea -- let's do more of those!\n"
     ]
    }
   ],
   "source": [
    "# Q7: import this to see Zen of Python\n",
    "import this"
   ]
  },
  {
   "cell_type": "markdown",
   "metadata": {},
   "source": [
    "## Math Operation"
   ]
  },
  {
   "cell_type": "code",
   "execution_count": 20,
   "metadata": {},
   "outputs": [
    {
     "data": {
      "text/plain": [
       "9"
      ]
     },
     "execution_count": 20,
     "metadata": {},
     "output_type": "execute_result"
    }
   ],
   "source": [
    "# Basic Calculation: + - * / % **\n",
    "3 ** 2"
   ]
  },
  {
   "cell_type": "code",
   "execution_count": 21,
   "metadata": {},
   "outputs": [
    {
     "data": {
      "text/plain": [
       "2.0"
      ]
     },
     "execution_count": 21,
     "metadata": {},
     "output_type": "execute_result"
    }
   ],
   "source": [
    "4 ** (1/2)"
   ]
  },
  {
   "cell_type": "code",
   "execution_count": 32,
   "metadata": {},
   "outputs": [
    {
     "data": {
      "text/plain": [
       "3.141592653589793"
      ]
     },
     "execution_count": 32,
     "metadata": {},
     "output_type": "execute_result"
    }
   ],
   "source": [
    "# Import math to Math Calculation\n",
    "import math\n",
    "math.pi"
   ]
  },
  {
   "cell_type": "code",
   "execution_count": 25,
   "metadata": {},
   "outputs": [
    {
     "data": {
      "text/plain": [
       "1.0"
      ]
     },
     "execution_count": 25,
     "metadata": {},
     "output_type": "execute_result"
    }
   ],
   "source": [
    "# Math module: Traingle func.\n",
    "math.sin(math.pi/2)"
   ]
  },
  {
   "cell_type": "code",
   "execution_count": 26,
   "metadata": {},
   "outputs": [
    {
     "data": {
      "text/plain": [
       "9"
      ]
     },
     "execution_count": 26,
     "metadata": {},
     "output_type": "execute_result"
    }
   ],
   "source": [
    "# Math module: 向下取整\n",
    "math.floor(9.23)"
   ]
  },
  {
   "cell_type": "code",
   "execution_count": 33,
   "metadata": {},
   "outputs": [
    {
     "data": {
      "text/plain": [
       "2"
      ]
     },
     "execution_count": 33,
     "metadata": {},
     "output_type": "execute_result"
    }
   ],
   "source": [
    "# Math module: 向上取整\n",
    "math.ceil(1.23)"
   ]
  },
  {
   "cell_type": "code",
   "execution_count": 35,
   "metadata": {},
   "outputs": [
    {
     "data": {
      "text/plain": [
       "8.0"
      ]
     },
     "execution_count": 35,
     "metadata": {},
     "output_type": "execute_result"
    }
   ],
   "source": [
    "# Math module: 乘方\n",
    "math.pow(2,3)          # 2**3运算速度更快，写法也更简单。"
   ]
  },
  {
   "cell_type": "code",
   "execution_count": 36,
   "metadata": {},
   "outputs": [
    {
     "data": {
      "text/plain": [
       "3.141592653589793"
      ]
     },
     "execution_count": 36,
     "metadata": {},
     "output_type": "execute_result"
    }
   ],
   "source": [
    "# Math module: 角度/弧度转换\n",
    "math.radians(180)"
   ]
  },
  {
   "cell_type": "markdown",
   "metadata": {},
   "source": [
    "## 变量 "
   ]
  },
  {
   "cell_type": "markdown",
   "metadata": {},
   "source": [
    " - 命名规范：以字母或下划线开头，不能以数字开头       #Same as C\n",
    " -          区分大小写                              #Same as C\n",
    " - 代码规范建议： 尽量不要使用单字符                 #Same as C\n",
    " -               变量名应能清晰表达变量的意思        #Same as C\n",
    " -               合理使用下划线隔断变量名中的单词    #Same as C"
   ]
  },
  {
   "cell_type": "code",
   "execution_count": 30,
   "metadata": {},
   "outputs": [
    {
     "name": "stdout",
     "output_type": "stream",
     "text": [
      "4\n"
     ]
    }
   ],
   "source": [
    "blink_cnt = 4\n",
    "print(blink_cnt)"
   ]
  },
  {
   "cell_type": "markdown",
   "metadata": {},
   "source": [
    "## 变量类型\n",
    " - 字符串 str\n",
    " - 数字   int float complex ...  (bool类型其实就是数值类型)\n",
    " - 列表   list\n",
    " - 元组   tuple\n",
    " - 字典   dict"
   ]
  },
  {
   "cell_type": "markdown",
   "metadata": {},
   "source": [
    "### 数值类型"
   ]
  },
  {
   "cell_type": "markdown",
   "metadata": {},
   "source": [
    "***增强的格式化字符串函数 format***"
   ]
  },
  {
   "cell_type": "code",
   "execution_count": 40,
   "metadata": {},
   "outputs": [
    {
     "name": "stdout",
     "output_type": "stream",
     "text": [
      "苹果的花费为10， 葡萄的花费为22.5， 总的花费为32.5\n"
     ]
    }
   ],
   "source": [
    "# Q8: 小姐姐买水果问题: 苹果5元/斤，葡萄15元/斤，小姐姐买了苹果2斤，葡萄1.5斤。分别多少钱？总共多少钱？\n",
    "# Apple price\n",
    "apple_price = 5\n",
    "apple_weight = 2\n",
    "apple_cost = apple_price * apple_weight\n",
    "\n",
    "# Grape price\n",
    "grape_price = 15\n",
    "grape_weitht = 1.5\n",
    "grape_cost = grape_price * grape_weitht\n",
    "\n",
    "total_cost = apple_cost + grape_cost\n",
    "\n",
    "print(\"苹果的花费为{}， 葡萄的花费为{}， 总的花费为{}\".format(apple_cost, grape_cost, total_cost))  #相当于C语言的printf()\n"
   ]
  },
  {
   "cell_type": "markdown",
   "metadata": {},
   "source": [
    "***语法糖***"
   ]
  },
  {
   "cell_type": "code",
   "execution_count": 10,
   "metadata": {},
   "outputs": [
    {
     "name": "stdout",
     "output_type": "stream",
     "text": [
      "2 1\n"
     ]
    }
   ],
   "source": [
    "# 交换两个变量的值\n",
    "a = 1; b = 2\n",
    "a, b = b, a\n",
    "print(a,b)"
   ]
  },
  {
   "cell_type": "code",
   "execution_count": 13,
   "metadata": {
    "scrolled": true
   },
   "outputs": [
    {
     "name": "stdout",
     "output_type": "stream",
     "text": [
      "3 2 1\n"
     ]
    }
   ],
   "source": [
    "# Q9: Exchange several variable values\n",
    "a = 1; b = 2; c = 3\n",
    "a, b, c = c, b, a\n",
    "print(a,b,c)                  #可以通过打印结果看到，对应位置的值会被赋值给对应位置的变量"
   ]
  },
  {
   "cell_type": "code",
   "execution_count": 16,
   "metadata": {},
   "outputs": [
    {
     "data": {
      "text/plain": [
       "True"
      ]
     },
     "execution_count": 16,
     "metadata": {},
     "output_type": "execute_result"
    }
   ],
   "source": [
    "# Q10: 连续关系判断\n",
    "a > b > c > 0"
   ]
  },
  {
   "cell_type": "markdown",
   "metadata": {},
   "source": [
    "#### bool 类型"
   ]
  },
  {
   "cell_type": "code",
   "execution_count": 42,
   "metadata": {},
   "outputs": [
    {
     "data": {
      "text/plain": [
       "True"
      ]
     },
     "execution_count": 42,
     "metadata": {},
     "output_type": "execute_result"
    }
   ],
   "source": [
    "True == 1               #需要注意 True的开头大写"
   ]
  },
  {
   "cell_type": "markdown",
   "metadata": {},
   "source": [
    "##### bool类型运算：与、或、非"
   ]
  },
  {
   "cell_type": "code",
   "execution_count": 10,
   "metadata": {},
   "outputs": [
    {
     "data": {
      "text/plain": [
       "0"
      ]
     },
     "execution_count": 10,
     "metadata": {},
     "output_type": "execute_result"
    }
   ],
   "source": [
    "2 and 0"
   ]
  },
  {
   "cell_type": "code",
   "execution_count": 40,
   "metadata": {},
   "outputs": [
    {
     "data": {
      "text/plain": [
       "1"
      ]
     },
     "execution_count": 40,
     "metadata": {},
     "output_type": "execute_result"
    }
   ],
   "source": [
    "1 or 0"
   ]
  },
  {
   "cell_type": "code",
   "execution_count": 43,
   "metadata": {},
   "outputs": [
    {
     "data": {
      "text/plain": [
       "True"
      ]
     },
     "execution_count": 43,
     "metadata": {},
     "output_type": "execute_result"
    }
   ],
   "source": [
    "not False"
   ]
  },
  {
   "cell_type": "markdown",
   "metadata": {},
   "source": [
    "| Operator | Description |\n",
    "| :--- | ---: |\n",
    "| < | 小于 |\n",
    "| <= | 小于等于 |\n",
    "| > | 大于 |\n",
    "| >= | 大于等于 |\n",
    "| == | 等于 |\n",
    "| != | 不等于 |\n",
    "| is | 相同对象 |"
   ]
  },
  {
   "cell_type": "markdown",
   "metadata": {},
   "source": [
    "### 字符串"
   ]
  },
  {
   "cell_type": "code",
   "execution_count": 67,
   "metadata": {},
   "outputs": [
    {
     "data": {
      "text/plain": [
       "'Jack Kilby'"
      ]
     },
     "execution_count": 67,
     "metadata": {},
     "output_type": "execute_result"
    }
   ],
   "source": [
    "# 字符串拼接\n",
    "line_1 = 'Jack '\n",
    "line_2 = \"Kilby\"\n",
    "line_1 + line_2"
   ]
  },
  {
   "cell_type": "code",
   "execution_count": 56,
   "metadata": {},
   "outputs": [
    {
     "data": {
      "text/plain": [
       "'Jack Jack Jack Jack Jack Jack Jack Jack Jack Jack '"
      ]
     },
     "execution_count": 56,
     "metadata": {},
     "output_type": "execute_result"
    }
   ],
   "source": [
    "# Q11：Duplicate String\n",
    "line_1 * 10"
   ]
  },
  {
   "cell_type": "code",
   "execution_count": 68,
   "metadata": {},
   "outputs": [
    {
     "data": {
      "text/plain": [
       "'Jack '"
      ]
     },
     "execution_count": 68,
     "metadata": {},
     "output_type": "execute_result"
    }
   ],
   "source": [
    "# 字符串是不可变类型变量，但可以重新赋值（其实是指向了新字符串的内存地址）\n",
    "line_1"
   ]
  },
  {
   "cell_type": "code",
   "execution_count": 69,
   "metadata": {},
   "outputs": [
    {
     "data": {
      "text/plain": [
       "(103692672, 103692672)"
      ]
     },
     "execution_count": 69,
     "metadata": {},
     "output_type": "execute_result"
    }
   ],
   "source": [
    "line_2 = line_1\n",
    "id(line_1), id(line_2)"
   ]
  },
  {
   "cell_type": "code",
   "execution_count": 70,
   "metadata": {
    "scrolled": true
   },
   "outputs": [
    {
     "data": {
      "text/plain": [
       "'Handsome'"
      ]
     },
     "execution_count": 70,
     "metadata": {},
     "output_type": "execute_result"
    }
   ],
   "source": [
    "line_1 = 'Handsome'\n",
    "line_1"
   ]
  },
  {
   "cell_type": "code",
   "execution_count": 71,
   "metadata": {},
   "outputs": [
    {
     "data": {
      "text/plain": [
       "106737560"
      ]
     },
     "execution_count": 71,
     "metadata": {},
     "output_type": "execute_result"
    }
   ],
   "source": [
    "id(line_1)"
   ]
  },
  {
   "cell_type": "markdown",
   "metadata": {},
   "source": [
    "#### 字符串的切片操作"
   ]
  },
  {
   "cell_type": "code",
   "execution_count": 75,
   "metadata": {},
   "outputs": [
    {
     "data": {
      "text/plain": [
       "'HandsomeHa'"
      ]
     },
     "execution_count": 75,
     "metadata": {},
     "output_type": "execute_result"
    }
   ],
   "source": [
    "# Q12: 切片操作取字符串前10个字符\n",
    "line_2 = line_1 * 5\n",
    "line_2[:10]"
   ]
  },
  {
   "cell_type": "code",
   "execution_count": 76,
   "metadata": {},
   "outputs": [
    {
     "data": {
      "text/plain": [
       "'2468024680'"
      ]
     },
     "execution_count": 76,
     "metadata": {},
     "output_type": "execute_result"
    }
   ],
   "source": [
    "# Q13: 从字符串第2个字符开始到第20个字符，每两个字符取一个\n",
    "string_test = '1234567890123456789012345678901234567890'\n",
    "string_test[1:20:2]"
   ]
  },
  {
   "cell_type": "code",
   "execution_count": 78,
   "metadata": {},
   "outputs": [
    {
     "data": {
      "text/plain": [
       "'890'"
      ]
     },
     "execution_count": 78,
     "metadata": {},
     "output_type": "execute_result"
    }
   ],
   "source": [
    "# Q14: 取后3个字符\n",
    "string_test[-3:]"
   ]
  },
  {
   "cell_type": "code",
   "execution_count": 79,
   "metadata": {},
   "outputs": [
    {
     "data": {
      "text/plain": [
       "'0987654321098765432109876543210987654321'"
      ]
     },
     "execution_count": 79,
     "metadata": {},
     "output_type": "execute_result"
    }
   ],
   "source": [
    "# Q15: 反转字符\n",
    "string_test[::-1]"
   ]
  },
  {
   "cell_type": "code",
   "execution_count": 83,
   "metadata": {},
   "outputs": [
    {
     "data": {
      "text/plain": [
       "('7', '4')"
      ]
     },
     "execution_count": 83,
     "metadata": {},
     "output_type": "execute_result"
    }
   ],
   "source": [
    "# Q16: 取第7个单字符，和倒数第7个单字符\n",
    "string_test[6], string_test[-7]"
   ]
  },
  {
   "cell_type": "markdown",
   "metadata": {},
   "source": [
    "### 列表"
   ]
  },
  {
   "cell_type": "markdown",
   "metadata": {},
   "source": [
    " - 列表可以容纳任意类型、任意数量的对象。\n",
    " - 列表是可变类型"
   ]
  },
  {
   "cell_type": "code",
   "execution_count": 5,
   "metadata": {},
   "outputs": [
    {
     "data": {
      "text/plain": [
       "([], [], [1, 2, 3, 'stri', 'ng', [], [100, 200]])"
      ]
     },
     "execution_count": 5,
     "metadata": {},
     "output_type": "execute_result"
    }
   ],
   "source": [
    "# 空列表\n",
    "v = []\n",
    "va = list()\n",
    "# 有对象的列表\n",
    "vb = [1, 2, 3, \"stri\", 'ng', [], [100, 200]]\n",
    "v, va, vb"
   ]
  },
  {
   "cell_type": "code",
   "execution_count": 6,
   "metadata": {},
   "outputs": [
    {
     "data": {
      "text/plain": [
       "[1, 2, 'hello']"
      ]
     },
     "execution_count": 6,
     "metadata": {},
     "output_type": "execute_result"
    }
   ],
   "source": [
    "# 列表是可变类型\n",
    "v.append(1)\n",
    "v.append(2)\n",
    "v.append('hello')\n",
    "v"
   ]
  },
  {
   "cell_type": "code",
   "execution_count": 7,
   "metadata": {},
   "outputs": [
    {
     "data": {
      "text/plain": [
       "2"
      ]
     },
     "execution_count": 7,
     "metadata": {},
     "output_type": "execute_result"
    }
   ],
   "source": [
    "v[1]"
   ]
  },
  {
   "cell_type": "code",
   "execution_count": 12,
   "metadata": {},
   "outputs": [
    {
     "data": {
      "text/plain": [
       "([1, 'just', 'hello'], list)"
      ]
     },
     "execution_count": 12,
     "metadata": {},
     "output_type": "execute_result"
    }
   ],
   "source": [
    "v[1] = 'just'\n",
    "v, type(v)"
   ]
  },
  {
   "cell_type": "markdown",
   "metadata": {},
   "source": [
    "#### 列表的切片，拼贴，复制等操作"
   ]
  },
  {
   "cell_type": "code",
   "execution_count": 13,
   "metadata": {},
   "outputs": [
    {
     "data": {
      "text/plain": [
       "['just', 'hello']"
      ]
     },
     "execution_count": 13,
     "metadata": {},
     "output_type": "execute_result"
    }
   ],
   "source": [
    "v[-2:]"
   ]
  },
  {
   "cell_type": "code",
   "execution_count": 14,
   "metadata": {},
   "outputs": [
    {
     "data": {
      "text/plain": [
       "[1, 'just', 'hello', 1, 7]"
      ]
     },
     "execution_count": 14,
     "metadata": {},
     "output_type": "execute_result"
    }
   ],
   "source": [
    "v + [1,7]"
   ]
  },
  {
   "cell_type": "code",
   "execution_count": 15,
   "metadata": {},
   "outputs": [
    {
     "data": {
      "text/plain": [
       "[1,\n",
       " 'just',\n",
       " 'hello',\n",
       " 1,\n",
       " 'just',\n",
       " 'hello',\n",
       " 1,\n",
       " 'just',\n",
       " 'hello',\n",
       " 1,\n",
       " 'just',\n",
       " 'hello']"
      ]
     },
     "execution_count": 15,
     "metadata": {},
     "output_type": "execute_result"
    }
   ],
   "source": [
    "v * 4"
   ]
  },
  {
   "cell_type": "markdown",
   "metadata": {},
   "source": [
    "***序列***\n",
    " - 字符串和列表都有“+” “*” len() 切片操作，所以定义一种新的类型————序列。\n",
    " - 字符串和列表都是序列，列表是容器型的序列，字符串是扁平型的序列。"
   ]
  },
  {
   "cell_type": "code",
   "execution_count": 15,
   "metadata": {},
   "outputs": [
    {
     "data": {
      "text/plain": [
       "[2, 1, 2, 3, 4]"
      ]
     },
     "execution_count": 15,
     "metadata": {},
     "output_type": "execute_result"
    }
   ],
   "source": [
    "a = [1,2]\n",
    "b = [3,4]\n",
    "a.extend(b) #a = a + b\n",
    "a.insert(0,2)\n",
    "a"
   ]
  },
  {
   "cell_type": "code",
   "execution_count": 16,
   "metadata": {},
   "outputs": [
    {
     "data": {
      "text/plain": [
       "[2, 1, 2, 4]"
      ]
     },
     "execution_count": 16,
     "metadata": {},
     "output_type": "execute_result"
    }
   ],
   "source": [
    "a.pop(3)\n",
    "a"
   ]
  },
  {
   "cell_type": "code",
   "execution_count": 17,
   "metadata": {},
   "outputs": [
    {
     "data": {
      "text/plain": [
       "[1, 2, 4]"
      ]
     },
     "execution_count": 17,
     "metadata": {},
     "output_type": "execute_result"
    }
   ],
   "source": [
    "a.remove(2)\n",
    "a"
   ]
  },
  {
   "cell_type": "code",
   "execution_count": 19,
   "metadata": {},
   "outputs": [
    {
     "data": {
      "text/plain": [
       "[4, 2, 1]"
      ]
     },
     "execution_count": 19,
     "metadata": {},
     "output_type": "execute_result"
    }
   ],
   "source": [
    "a.reverse()\n",
    "a"
   ]
  },
  {
   "cell_type": "code",
   "execution_count": 20,
   "metadata": {},
   "outputs": [
    {
     "data": {
      "text/plain": [
       "[1, 2, 4]"
      ]
     },
     "execution_count": 20,
     "metadata": {},
     "output_type": "execute_result"
    }
   ],
   "source": [
    "a.sort()\n",
    "a"
   ]
  },
  {
   "cell_type": "code",
   "execution_count": 21,
   "metadata": {},
   "outputs": [
    {
     "data": {
      "text/plain": [
       "True"
      ]
     },
     "execution_count": 21,
     "metadata": {},
     "output_type": "execute_result"
    }
   ],
   "source": [
    "4 in a\n"
   ]
  },
  {
   "cell_type": "markdown",
   "metadata": {},
   "source": [
    "### 元组 tuple"
   ]
  },
  {
   "cell_type": "code",
   "execution_count": 22,
   "metadata": {},
   "outputs": [
    {
     "data": {
      "text/plain": [
       "tuple"
      ]
     },
     "execution_count": 22,
     "metadata": {},
     "output_type": "execute_result"
    }
   ],
   "source": [
    "var = tuple()\n",
    "var = ()\n",
    "type(var)"
   ]
  },
  {
   "cell_type": "code",
   "execution_count": 6,
   "metadata": {},
   "outputs": [],
   "source": [
    "t = (1,2,1,3,4,5,[22,35,43,1])"
   ]
  },
  {
   "cell_type": "code",
   "execution_count": 7,
   "metadata": {},
   "outputs": [
    {
     "data": {
      "text/plain": [
       "2"
      ]
     },
     "execution_count": 7,
     "metadata": {},
     "output_type": "execute_result"
    }
   ],
   "source": [
    "t.count(1)"
   ]
  },
  {
   "cell_type": "code",
   "execution_count": 8,
   "metadata": {},
   "outputs": [
    {
     "data": {
      "text/plain": [
       "1"
      ]
     },
     "execution_count": 8,
     "metadata": {},
     "output_type": "execute_result"
    }
   ],
   "source": [
    "t.index(2)"
   ]
  },
  {
   "cell_type": "code",
   "execution_count": 33,
   "metadata": {},
   "outputs": [
    {
     "name": "stdout",
     "output_type": "stream",
     "text": [
      "(13, 18, 19, 17, 11, 19, 13, 17, 7, 15)\n"
     ]
    }
   ],
   "source": [
    "# Q18: 生成一个有10个随机数的元组\n",
    "import random\n",
    "a = list()\n",
    "for i in range(10):\n",
    "    a.append(random.randint(1,20))\n",
    "b = tuple(a)\n",
    "print(b)"
   ]
  },
  {
   "cell_type": "code",
   "execution_count": 35,
   "metadata": {},
   "outputs": [
    {
     "data": {
      "text/plain": [
       "(13, 18, 17)"
      ]
     },
     "execution_count": 35,
     "metadata": {},
     "output_type": "execute_result"
    }
   ],
   "source": [
    "# 拆包\n",
    "a,b,c,d,e,f,g,h,i,j = b\n",
    "a,b,d\n"
   ]
  },
  {
   "cell_type": "code",
   "execution_count": 36,
   "metadata": {},
   "outputs": [
    {
     "data": {
      "text/plain": [
       "18"
      ]
     },
     "execution_count": 36,
     "metadata": {},
     "output_type": "execute_result"
    }
   ],
   "source": [
    "# 封包\n",
    "a = b\n",
    "a"
   ]
  },
  {
   "cell_type": "code",
   "execution_count": 40,
   "metadata": {},
   "outputs": [
    {
     "name": "stdout",
     "output_type": "stream",
     "text": [
      "1 6 [2, 3, 4, 4, 5]\n",
      "2 3 4 4 5\n"
     ]
    }
   ],
   "source": [
    "# 拆包元素个数不对应的情况\n",
    "a = (1,2,3,4,4,5,6)\n",
    "b,*r,c = a\n",
    "print(b, c, r)\n",
    "print(*r)"
   ]
  },
  {
   "cell_type": "markdown",
   "metadata": {},
   "source": [
    "### 字典 dict"
   ]
  },
  {
   "cell_type": "code",
   "execution_count": 31,
   "metadata": {},
   "outputs": [
    {
     "data": {
      "text/plain": [
       "dict"
      ]
     },
     "execution_count": 31,
     "metadata": {},
     "output_type": "execute_result"
    }
   ],
   "source": [
    "#空字典\n",
    "var = {}\n",
    "var = dict()\n",
    "#非空字典，键值对用“：”连接，用“，”分隔\n",
    "var = {\n",
    "    \"中\":100,\n",
    "    \"做\":200\n",
    "}\n",
    "type(var)"
   ]
  },
  {
   "cell_type": "code",
   "execution_count": 32,
   "metadata": {},
   "outputs": [
    {
     "data": {
      "text/plain": [
       "100"
      ]
     },
     "execution_count": 32,
     "metadata": {},
     "output_type": "execute_result"
    }
   ],
   "source": [
    "var['中']"
   ]
  },
  {
   "cell_type": "code",
   "execution_count": 1,
   "metadata": {},
   "outputs": [
    {
     "data": {
      "text/plain": [
       "100"
      ]
     },
     "execution_count": 1,
     "metadata": {},
     "output_type": "execute_result"
    }
   ],
   "source": [
    "# Q17: 用列表实现字典功能\n",
    "words = ['中','做']\n",
    "location = [100, 200]\n",
    "location[words.index('中')]"
   ]
  },
  {
   "cell_type": "code",
   "execution_count": 42,
   "metadata": {},
   "outputs": [
    {
     "name": "stdout",
     "output_type": "stream",
     "text": [
      "[('中', 100), ('做', 200)]\n"
     ]
    },
    {
     "data": {
      "text/plain": [
       "{'中': 100, '做': 200}"
      ]
     },
     "execution_count": 42,
     "metadata": {},
     "output_type": "execute_result"
    }
   ],
   "source": [
    "# 将列表转换为字典，注意列表中的元素要成对出现\n",
    "var = list(zip(words,location))\n",
    "print(var)\n",
    "var = dict(var)\n",
    "var"
   ]
  },
  {
   "cell_type": "code",
   "execution_count": 4,
   "metadata": {},
   "outputs": [],
   "source": [
    "# 字典中键值对 的 增删改查\n",
    "var['国'] = 150      #增\n",
    "del var['做']        #删\n",
    "var['中'] = 50       #改，如果本身没有该key，做\"增\"\n",
    "var.clear()          #清空\n",
    "del var              #删除"
   ]
  },
  {
   "cell_type": "code",
   "execution_count": 4,
   "metadata": {},
   "outputs": [
    {
     "name": "stdout",
     "output_type": "stream",
     "text": [
      "I\n",
      "K\n",
      "t\n"
     ]
    }
   ],
   "source": [
    "#字典的遍历，得到的是key\n",
    "dict0 = {'I':64, 'K':78, 't':23}\n",
    "for i in dict0:\n",
    "    print(i)"
   ]
  },
  {
   "cell_type": "code",
   "execution_count": 8,
   "metadata": {},
   "outputs": [
    {
     "name": "stdout",
     "output_type": "stream",
     "text": [
      "I 64\n",
      "K 78\n",
      "t 23\n"
     ]
    }
   ],
   "source": [
    "#dict.items()\n",
    "dict0.items()\n",
    "for key,valu in dict0.items():    #拆包\n",
    "    print(key,valu)"
   ]
  },
  {
   "cell_type": "code",
   "execution_count": 14,
   "metadata": {},
   "outputs": [
    {
     "name": "stdout",
     "output_type": "stream",
     "text": [
      "dict_values([64, 78, 23])\n",
      "Average is 55.0\n"
     ]
    }
   ],
   "source": [
    "#dict.values()\n",
    "print(dict0.values())\n",
    "# 求平均\n",
    "print(\"Average is {}\".format(sum(dict0.values())/len(dict0.values())))"
   ]
  },
  {
   "cell_type": "code",
   "execution_count": 15,
   "metadata": {},
   "outputs": [
    {
     "data": {
      "text/plain": [
       "dict_keys(['I', 'K', 't'])"
      ]
     },
     "execution_count": 15,
     "metadata": {},
     "output_type": "execute_result"
    }
   ],
   "source": [
    "#dict.keys()\n",
    "dict0.keys()"
   ]
  },
  {
   "cell_type": "code",
   "execution_count": 16,
   "metadata": {},
   "outputs": [
    {
     "data": {
      "text/plain": [
       "True"
      ]
     },
     "execution_count": 16,
     "metadata": {},
     "output_type": "execute_result"
    }
   ],
   "source": [
    "#查询，查询Key是否存在\n",
    "'I' in dict0"
   ]
  },
  {
   "cell_type": "code",
   "execution_count": 17,
   "metadata": {},
   "outputs": [
    {
     "data": {
      "text/plain": [
       "{'I': 64, 't': 23}"
      ]
     },
     "execution_count": 17,
     "metadata": {},
     "output_type": "execute_result"
    }
   ],
   "source": [
    "#dict.pop(key)\n",
    "dict0.pop('K')\n",
    "dict0"
   ]
  },
  {
   "cell_type": "markdown",
   "metadata": {},
   "source": [
    "### 集合 set\n",
    "- 特点：无序、不重复"
   ]
  },
  {
   "cell_type": "code",
   "execution_count": 18,
   "metadata": {},
   "outputs": [],
   "source": [
    "#空集合\n",
    "si = set()\n",
    "#非空集合"
   ]
  },
  {
   "cell_type": "code",
   "execution_count": 32,
   "metadata": {},
   "outputs": [
    {
     "data": {
      "text/plain": [
       "{1, 2, 3, 4, 5}"
      ]
     },
     "execution_count": 32,
     "metadata": {},
     "output_type": "execute_result"
    }
   ],
   "source": [
    "# Q20: 列表快速去重\n",
    "ls = [1,2,3,4,5,3,5,3,2]\n",
    "si = set(ls)\n",
    "si"
   ]
  },
  {
   "cell_type": "code",
   "execution_count": 33,
   "metadata": {},
   "outputs": [
    {
     "name": "stdout",
     "output_type": "stream",
     "text": [
      "{1, 2, 3, 4, 5, '我是帅哥'}\n",
      "{1, 2, 3, 4, 5, '元组', 7, '我是帅哥'}\n"
     ]
    }
   ],
   "source": [
    "# 集合的增删改查\n",
    "# 增\n",
    "si.add(\"我是帅哥\")\n",
    "print(si)\n",
    "t1 = (\"元组\", 7)\n",
    "si.update(t1)\n",
    "print(si)"
   ]
  },
  {
   "cell_type": "code",
   "execution_count": 34,
   "metadata": {},
   "outputs": [
    {
     "name": "stdout",
     "output_type": "stream",
     "text": [
      "{1, 2, 3, 4, 5, '元组', '我是帅哥'}\n",
      "{2, 3, 4, 5, '元组', '我是帅哥'}\n",
      "{2, 4, 5, '元组', '我是帅哥'}\n"
     ]
    }
   ],
   "source": [
    "# 删\n",
    "si.remove(7)   #移除不存在的元素时会报错\n",
    "print(si)\n",
    "si.pop()\n",
    "print(si)\n",
    "si.discard(3)     #移除不存在的元素时不会报错\n",
    "print(si)"
   ]
  },
  {
   "cell_type": "code",
   "execution_count": 37,
   "metadata": {},
   "outputs": [
    {
     "name": "stdout",
     "output_type": "stream",
     "text": [
      "True\n"
     ]
    }
   ],
   "source": [
    "s1 = {1,2,3}\n",
    "s2 = {2,1,3,4}\n",
    "print(s1 != s2)"
   ]
  },
  {
   "cell_type": "markdown",
   "metadata": {},
   "source": [
    "## 函数\n",
    "- 使用关键字 def\n",
    "- 注意缩进\n",
    "- 函数名后面必须加括号"
   ]
  },
  {
   "cell_type": "code",
   "execution_count": 38,
   "metadata": {},
   "outputs": [],
   "source": [
    "# 定义方法: def 函数名： 换行缩进 函数体\n",
    "def function(param1, param2):\n",
    "    print(1,2)"
   ]
  },
  {
   "cell_type": "code",
   "execution_count": 43,
   "metadata": {},
   "outputs": [
    {
     "name": "stdout",
     "output_type": "stream",
     "text": [
      "11\n",
      "6\n",
      "1\n"
     ]
    }
   ],
   "source": [
    "# 定义函数，产生随机数\n",
    "import random\n",
    "\n",
    "\n",
    "def gen_random():\n",
    "    for i in range(10):\n",
    "        ran = random.randint(1,20)\n",
    "        print(ran)\n",
    "        \n",
    "def gen_random(num):\n",
    "    for i in range(num):\n",
    "        ran = random.randint(1,20)\n",
    "        print(ran)\n",
    "\n",
    "gen_random(3)"
   ]
  },
  {
   "cell_type": "code",
   "execution_count": 45,
   "metadata": {},
   "outputs": [
    {
     "name": "stdout",
     "output_type": "stream",
     "text": [
      "7\n"
     ]
    }
   ],
   "source": [
    "# Q21: 加法函数\n",
    "def add(a, b):\n",
    "    print(a+b)\n",
    "\n",
    "add(3,4)"
   ]
  },
  {
   "cell_type": "code",
   "execution_count": 54,
   "metadata": {},
   "outputs": [
    {
     "name": "stdout",
     "output_type": "stream",
     "text": [
      "8\n",
      "7\n"
     ]
    },
    {
     "data": {
      "text/plain": [
       "(None, None)"
      ]
     },
     "execution_count": 54,
     "metadata": {},
     "output_type": "execute_result"
    }
   ],
   "source": [
    "# Q22: 找出列表的最大值\n",
    "def max(lst):\n",
    "    max = lst[0]\n",
    "    for i in lst:\n",
    "        if i>max:\n",
    "            max = i\n",
    "    print(max)\n",
    "\n",
    "ls = [2,3,4,8]\n",
    "tup = (2,5,3,7,4)\n",
    "max(ls),max(tup)"
   ]
  },
  {
   "cell_type": "code",
   "execution_count": 55,
   "metadata": {},
   "outputs": [
    {
     "data": {
      "text/plain": [
       "True"
      ]
     },
     "execution_count": 55,
     "metadata": {},
     "output_type": "execute_result"
    }
   ],
   "source": [
    "isinstance(tup, tuple)"
   ]
  },
  {
   "cell_type": "code",
   "execution_count": 60,
   "metadata": {},
   "outputs": [
    {
     "name": "stdout",
     "output_type": "stream",
     "text": [
      "6\n"
     ]
    }
   ],
   "source": [
    "# 可变参数\n",
    "def add(*args):\n",
    "    sum = 0\n",
    "    if len(args) >0:\n",
    "        for i in args:\n",
    "            sum += i\n",
    "        print(sum)\n",
    "    else:\n",
    "        print(\"没有元素可计算，sum:\", sum)\n",
    "\n",
    "add(1,2,3)"
   ]
  },
  {
   "cell_type": "code",
   "execution_count": 63,
   "metadata": {},
   "outputs": [
    {
     "name": "stdout",
     "output_type": "stream",
     "text": [
      "15\n",
      "5\n",
      "7\n"
     ]
    }
   ],
   "source": [
    "#关键字参数\n",
    "def add(a, b=10):\n",
    "    result = a+b\n",
    "    print(result)\n",
    "    \n",
    "add(5)\n",
    "add(4,1)#1覆盖了关键字参数的默认值\n",
    "add(3,b=4)#通过关键字指定赋值对象"
   ]
  },
  {
   "cell_type": "code",
   "execution_count": 66,
   "metadata": {},
   "outputs": [
    {
     "name": "stdout",
     "output_type": "stream",
     "text": [
      "dict_values([('蔡徐坤', 20), ('王源', 19), ('王俊凯', 19)])\n",
      "蔡徐坤的年龄是20\n",
      "王源的年龄是19\n",
      "王俊凯的年龄是19\n"
     ]
    }
   ],
   "source": [
    "students = {\n",
    "    '001': ('蔡徐坤',20),\n",
    "    '002': ('王源',19),\n",
    "    '003': ('王俊凯',19)\n",
    "}\n",
    "\n",
    "def print_boy(persons):\n",
    "    if isinstance(persons,dict):\n",
    "        values = persons.values()\n",
    "        print(values)\n",
    "        for name,age in values:\n",
    "            print('{}的年龄是{}'.format(name, age))\n",
    "            \n",
    "print_boy(students)"
   ]
  },
  {
   "cell_type": "code",
   "execution_count": 69,
   "metadata": {},
   "outputs": [
    {
     "name": "stdout",
     "output_type": "stream",
     "text": [
      "{'a': 1, 'b': 2, 'c': 3}\n",
      "{'001': ('蔡徐坤', 20), '002': ('王源', 19), '003': ('王俊凯', 19)}\n"
     ]
    }
   ],
   "source": [
    "# **将字典拆包成关键字参数的结构\n",
    "def func(**kwargs):  #key word argument\n",
    "    print(kwargs)\n",
    "    \n",
    "func(a=1,b=2, c=3)\n",
    "func(**students)"
   ]
  },
  {
   "cell_type": "code",
   "execution_count": 71,
   "metadata": {},
   "outputs": [
    {
     "name": "stdout",
     "output_type": "stream",
     "text": [
      "蔡徐坤的年龄是20\n",
      "王源的年龄是19\n",
      "王俊凯的年龄是19\n"
     ]
    }
   ],
   "source": [
    "def print_boy(**persons):\n",
    "    if isinstance(persons,dict):\n",
    "        values = persons.values()\n",
    "#         print(values)\n",
    "        for name,age in values:\n",
    "            print('{}的年龄是{}'.format(name, age))\n",
    "            \n",
    "print_boy(**students)"
   ]
  },
  {
   "cell_type": "code",
   "execution_count": 73,
   "metadata": {},
   "outputs": [
    {
     "data": {
      "text/plain": [
       "(7, 1)"
      ]
     },
     "execution_count": 73,
     "metadata": {},
     "output_type": "execute_result"
    }
   ],
   "source": [
    "# 函数的返回值\n",
    "def add(a,b):\n",
    "    return a+b,b-a\n",
    "\n",
    "add(3,4)"
   ]
  },
  {
   "cell_type": "code",
   "execution_count": null,
   "metadata": {},
   "outputs": [],
   "source": []
  },
  {
   "cell_type": "code",
   "execution_count": null,
   "metadata": {},
   "outputs": [],
   "source": []
  }
 ],
 "metadata": {
  "kernelspec": {
   "display_name": "Python 3",
   "language": "python",
   "name": "python3"
  },
  "language_info": {
   "codemirror_mode": {
    "name": "ipython",
    "version": 3
   },
   "file_extension": ".py",
   "mimetype": "text/x-python",
   "name": "python",
   "nbconvert_exporter": "python",
   "pygments_lexer": "ipython3",
   "version": "3.8.3"
  }
 },
 "nbformat": 4,
 "nbformat_minor": 4
}
